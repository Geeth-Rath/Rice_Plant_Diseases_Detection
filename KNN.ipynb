{
  "nbformat": 4,
  "nbformat_minor": 0,
  "metadata": {
    "colab": {
      "provenance": [],
      "machine_shape": "hm",
      "include_colab_link": true
    },
    "kernelspec": {
      "name": "python3",
      "display_name": "Python 3"
    },
    "accelerator": "TPU"
  },
  "cells": [
    {
      "cell_type": "markdown",
      "metadata": {
        "id": "view-in-github",
        "colab_type": "text"
      },
      "source": [
        "<a href=\"https://colab.research.google.com/github/Geeth-Rath/Rice_Plant_Diseases_Detection/blob/rice_plant_nutrients_defficiency/KNN.ipynb\" target=\"_parent\"><img src=\"https://colab.research.google.com/assets/colab-badge.svg\" alt=\"Open In Colab\"/></a>"
      ]
    },
    {
      "cell_type": "markdown",
      "metadata": {
        "id": "4cbgwZWWfWpp"
      },
      "source": [
        "# New Section"
      ]
    },
    {
      "cell_type": "code",
      "metadata": {
        "id": "pafL7Li0jyXW",
        "colab": {
          "base_uri": "https://localhost:8080/"
        },
        "outputId": "91fb4a1e-6de1-4477-b219-0ca56067fbfc"
      },
      "source": [
        "pip install rembg"
      ],
      "execution_count": 1,
      "outputs": [
        {
          "output_type": "stream",
          "name": "stdout",
          "text": [
            "Looking in indexes: https://pypi.org/simple, https://us-python.pkg.dev/colab-wheels/public/simple/\n",
            "Requirement already satisfied: rembg in /usr/local/lib/python3.10/dist-packages (2.0.37)\n",
            "Requirement already satisfied: aiohttp>=3.8.1 in /usr/local/lib/python3.10/dist-packages (from rembg) (3.8.4)\n",
            "Requirement already satisfied: asyncer>=0.0.2 in /usr/local/lib/python3.10/dist-packages (from rembg) (0.0.2)\n",
            "Requirement already satisfied: click>=8.1.3 in /usr/local/lib/python3.10/dist-packages (from rembg) (8.1.3)\n",
            "Requirement already satisfied: fastapi>=0.92.0 in /usr/local/lib/python3.10/dist-packages (from rembg) (0.95.2)\n",
            "Requirement already satisfied: filetype>=1.2.0 in /usr/local/lib/python3.10/dist-packages (from rembg) (1.2.0)\n",
            "Requirement already satisfied: imagehash>=4.3.1 in /usr/local/lib/python3.10/dist-packages (from rembg) (4.3.1)\n",
            "Requirement already satisfied: numpy>=1.23.5 in /usr/local/lib/python3.10/dist-packages (from rembg) (1.23.5)\n",
            "Requirement already satisfied: onnxruntime>=1.14.1 in /usr/local/lib/python3.10/dist-packages (from rembg) (1.15.0)\n",
            "Requirement already satisfied: opencv-python-headless>=4.6.0.66 in /usr/local/lib/python3.10/dist-packages (from rembg) (4.7.0.72)\n",
            "Requirement already satisfied: pillow>=9.3.0 in /usr/local/lib/python3.10/dist-packages (from rembg) (9.5.0)\n",
            "Requirement already satisfied: pooch>=1.6.0 in /usr/local/lib/python3.10/dist-packages (from rembg) (1.6.0)\n",
            "Requirement already satisfied: pymatting>=1.1.8 in /usr/local/lib/python3.10/dist-packages (from rembg) (1.1.8)\n",
            "Requirement already satisfied: python-multipart>=0.0.5 in /usr/local/lib/python3.10/dist-packages (from rembg) (0.0.6)\n",
            "Requirement already satisfied: scikit-image>=0.19.3 in /usr/local/lib/python3.10/dist-packages (from rembg) (0.19.3)\n",
            "Requirement already satisfied: scipy>=1.9.3 in /usr/local/lib/python3.10/dist-packages (from rembg) (1.10.1)\n",
            "Requirement already satisfied: tqdm>=4.64.1 in /usr/local/lib/python3.10/dist-packages (from rembg) (4.65.0)\n",
            "Requirement already satisfied: uvicorn>=0.20.0 in /usr/local/lib/python3.10/dist-packages (from rembg) (0.22.0)\n",
            "Requirement already satisfied: watchdog>=2.1.9 in /usr/local/lib/python3.10/dist-packages (from rembg) (3.0.0)\n",
            "Requirement already satisfied: attrs>=17.3.0 in /usr/local/lib/python3.10/dist-packages (from aiohttp>=3.8.1->rembg) (23.1.0)\n",
            "Requirement already satisfied: charset-normalizer<4.0,>=2.0 in /usr/local/lib/python3.10/dist-packages (from aiohttp>=3.8.1->rembg) (2.0.12)\n",
            "Requirement already satisfied: multidict<7.0,>=4.5 in /usr/local/lib/python3.10/dist-packages (from aiohttp>=3.8.1->rembg) (6.0.4)\n",
            "Requirement already satisfied: async-timeout<5.0,>=4.0.0a3 in /usr/local/lib/python3.10/dist-packages (from aiohttp>=3.8.1->rembg) (4.0.2)\n",
            "Requirement already satisfied: yarl<2.0,>=1.0 in /usr/local/lib/python3.10/dist-packages (from aiohttp>=3.8.1->rembg) (1.9.2)\n",
            "Requirement already satisfied: frozenlist>=1.1.1 in /usr/local/lib/python3.10/dist-packages (from aiohttp>=3.8.1->rembg) (1.3.3)\n",
            "Requirement already satisfied: aiosignal>=1.1.2 in /usr/local/lib/python3.10/dist-packages (from aiohttp>=3.8.1->rembg) (1.3.1)\n",
            "Requirement already satisfied: anyio<4.0.0,>=3.4.0 in /usr/local/lib/python3.10/dist-packages (from asyncer>=0.0.2->rembg) (3.6.2)\n",
            "Requirement already satisfied: pydantic!=1.7,!=1.7.1,!=1.7.2,!=1.7.3,!=1.8,!=1.8.1,<2.0.0,>=1.6.2 in /usr/local/lib/python3.10/dist-packages (from fastapi>=0.92.0->rembg) (1.10.7)\n",
            "Requirement already satisfied: starlette<0.28.0,>=0.27.0 in /usr/local/lib/python3.10/dist-packages (from fastapi>=0.92.0->rembg) (0.27.0)\n",
            "Requirement already satisfied: PyWavelets in /usr/local/lib/python3.10/dist-packages (from imagehash>=4.3.1->rembg) (1.4.1)\n",
            "Requirement already satisfied: coloredlogs in /usr/local/lib/python3.10/dist-packages (from onnxruntime>=1.14.1->rembg) (15.0.1)\n",
            "Requirement already satisfied: flatbuffers in /usr/local/lib/python3.10/dist-packages (from onnxruntime>=1.14.1->rembg) (23.3.3)\n",
            "Requirement already satisfied: packaging in /usr/local/lib/python3.10/dist-packages (from onnxruntime>=1.14.1->rembg) (23.1)\n",
            "Requirement already satisfied: protobuf in /usr/local/lib/python3.10/dist-packages (from onnxruntime>=1.14.1->rembg) (3.20.3)\n",
            "Requirement already satisfied: sympy in /usr/local/lib/python3.10/dist-packages (from onnxruntime>=1.14.1->rembg) (1.11.1)\n",
            "Requirement already satisfied: appdirs>=1.3.0 in /usr/local/lib/python3.10/dist-packages (from pooch>=1.6.0->rembg) (1.4.4)\n",
            "Requirement already satisfied: requests>=2.19.0 in /usr/local/lib/python3.10/dist-packages (from pooch>=1.6.0->rembg) (2.27.1)\n",
            "Requirement already satisfied: numba!=0.49.0 in /usr/local/lib/python3.10/dist-packages (from pymatting>=1.1.8->rembg) (0.56.4)\n",
            "Requirement already satisfied: networkx>=2.2 in /usr/local/lib/python3.10/dist-packages (from scikit-image>=0.19.3->rembg) (3.1)\n",
            "Requirement already satisfied: imageio>=2.4.1 in /usr/local/lib/python3.10/dist-packages (from scikit-image>=0.19.3->rembg) (2.25.1)\n",
            "Requirement already satisfied: tifffile>=2019.7.26 in /usr/local/lib/python3.10/dist-packages (from scikit-image>=0.19.3->rembg) (2023.4.12)\n",
            "Requirement already satisfied: h11>=0.8 in /usr/local/lib/python3.10/dist-packages (from uvicorn>=0.20.0->rembg) (0.14.0)\n",
            "Requirement already satisfied: idna>=2.8 in /usr/local/lib/python3.10/dist-packages (from anyio<4.0.0,>=3.4.0->asyncer>=0.0.2->rembg) (3.4)\n",
            "Requirement already satisfied: sniffio>=1.1 in /usr/local/lib/python3.10/dist-packages (from anyio<4.0.0,>=3.4.0->asyncer>=0.0.2->rembg) (1.3.0)\n",
            "Requirement already satisfied: llvmlite<0.40,>=0.39.0dev0 in /usr/local/lib/python3.10/dist-packages (from numba!=0.49.0->pymatting>=1.1.8->rembg) (0.39.1)\n",
            "Requirement already satisfied: setuptools in /usr/local/lib/python3.10/dist-packages (from numba!=0.49.0->pymatting>=1.1.8->rembg) (67.7.2)\n",
            "Requirement already satisfied: typing-extensions>=4.2.0 in /usr/local/lib/python3.10/dist-packages (from pydantic!=1.7,!=1.7.1,!=1.7.2,!=1.7.3,!=1.8,!=1.8.1,<2.0.0,>=1.6.2->fastapi>=0.92.0->rembg) (4.6.2)\n",
            "Requirement already satisfied: urllib3<1.27,>=1.21.1 in /usr/local/lib/python3.10/dist-packages (from requests>=2.19.0->pooch>=1.6.0->rembg) (1.26.15)\n",
            "Requirement already satisfied: certifi>=2017.4.17 in /usr/local/lib/python3.10/dist-packages (from requests>=2.19.0->pooch>=1.6.0->rembg) (2022.12.7)\n",
            "Requirement already satisfied: humanfriendly>=9.1 in /usr/local/lib/python3.10/dist-packages (from coloredlogs->onnxruntime>=1.14.1->rembg) (10.0)\n",
            "Requirement already satisfied: mpmath>=0.19 in /usr/local/lib/python3.10/dist-packages (from sympy->onnxruntime>=1.14.1->rembg) (1.3.0)\n"
          ]
        }
      ]
    },
    {
      "cell_type": "code",
      "metadata": {
        "id": "tAb77yZ9fzMG",
        "colab": {
          "base_uri": "https://localhost:8080/"
        },
        "outputId": "f5d7fcfe-e867-476f-b1b9-fb045b0e7646"
      },
      "source": [
        "from google.colab import drive\n",
        "drive.mount('/content/drive')"
      ],
      "execution_count": 2,
      "outputs": [
        {
          "output_type": "stream",
          "name": "stdout",
          "text": [
            "Drive already mounted at /content/drive; to attempt to forcibly remount, call drive.mount(\"/content/drive\", force_remount=True).\n"
          ]
        }
      ]
    },
    {
      "cell_type": "code",
      "source": [
        "import numpy as np # dataAnalysis\n",
        "import pandas as pd #multidimensional arrays\n",
        "import matplotlib.pyplot as plt #data visualization\n",
        "from sklearn.model_selection import train_test_split\n",
        "from sklearn.metrics import accuracy_score\n",
        "\n",
        "import os\n",
        "from skimage import img_as_ubyte\n",
        "from skimage.util import img_as_float\n",
        "from rembg import remove"
      ],
      "metadata": {
        "id": "vwQlZPMMeALl"
      },
      "execution_count": 3,
      "outputs": []
    },
    {
      "cell_type": "code",
      "source": [
        "import cv2\n",
        "import numpy as np\n",
        "import os\n",
        "from skimage import exposure\n",
        "from sklearn.cluster import KMeans\n",
        "from sklearn.decomposition import PCA\n",
        "from sklearn.model_selection import train_test_split\n",
        "from sklearn.neighbors import KNeighborsClassifier\n",
        "from sklearn.metrics import accuracy_score\n",
        "from skimage import img_as_ubyte\n"
      ],
      "metadata": {
        "id": "cSTFRsjGewDG"
      },
      "execution_count": 4,
      "outputs": []
    },
    {
      "cell_type": "code",
      "source": [
        "img_no = 1\n",
        "x = []\n",
        "y = []\n",
        "z = []\n",
        "histo = []\n"
      ],
      "metadata": {
        "id": "DZ0-RmILfXts"
      },
      "execution_count": 5,
      "outputs": []
    },
    {
      "cell_type": "code",
      "source": [
        "import cv2\n",
        "\n",
        "def rotate_image_upside(image):\n",
        "\n",
        "    # Check the image orientation\n",
        "\n",
        "    height, width = image.shape[:2]\n",
        "   \n",
        "    if height > width: \n",
        "        rotated_image = cv2.rotate(image, cv2.ROTATE_90_CLOCKWISE)\n",
        "    else:\n",
        "        print(\"width\", image.shape)\n",
        "        rotated_image = image\n",
        "\n",
        "    return rotated_image\n"
      ],
      "metadata": {
        "id": "2RBEKXLFrC5E"
      },
      "execution_count": 6,
      "outputs": []
    },
    {
      "cell_type": "code",
      "source": [
        "(2000, 200, 3)\n",
        "height (289, 3757)\n",
        "height (364, 4028)\n",
        "width (3690, 327)\n",
        "width (3830, 280)"
      ],
      "metadata": {
        "id": "YmNTv2Z1yBIG"
      },
      "execution_count": null,
      "outputs": []
    },
    {
      "cell_type": "code",
      "source": [
        "\n",
        "\n",
        "classes = {'Nitrogen(N)': 0 , 'Phosphorus(P)': 1, 'Potassium(K)': 2}\n",
        "\n",
        "for cls in classes:\n",
        "    pth = '/content/drive/MyDrive/colab/dataset/rice_plant_lacks_nutrients/' + cls\n",
        "    for j in os.listdir(pth):\n",
        "        img = cv2.imread(pth + '/' + j, 0)\n",
        "        \n",
        "        # img = rotate_image_upside(img)\n",
        "\n",
        "        #  # Resize\n",
        "        resizedImage = cv2.resize(img, (200, 2000))\n",
        "        \n",
        "        # Contrast improve\n",
        "        color_contrastImage = cv2.cvtColor(img, cv2.COLOR_BGR2RGB)\n",
        "        \n",
        "        # Histogram equalization\n",
        "        hist_eq_image = cv2.cvtColor(color_contrastImage, cv2.COLOR_RGB2Lab)\n",
        "        clahe = cv2.createCLAHE(clipLimit=2.0, tileGridSize=(8, 8))\n",
        "        hist_eq_image[:, :, 0] = clahe.apply(hist_eq_image[:, :, 0])\n",
        "        hist_eq_image = cv2.cvtColor(hist_eq_image, cv2.COLOR_Lab2RGB)\n",
        "        \n",
        "        # Gamma correction\n",
        "        gamma = 1.5\n",
        "        gamma_corrected = cv2.pow(hist_eq_image/255.0, gamma)\n",
        "        gamma_corrected = (gamma_corrected * 255).astype('uint8')\n",
        "        \n",
        "        # Smooth image\n",
        "        smooth_image = cv2.GaussianBlur(gamma_corrected, (7, 7), 0, borderType=cv2.BORDER_CONSTANT)\n",
        "        \n",
        "        # Save the preprocessed image in the class directory\n",
        "        # cv2.imwrite(pth + '/' + str(img_no) + '.jpg', smooth_image)\n",
        "        \n",
        "        # Append modified images to the respective lists\n",
        "        img_no += 1\n",
        "        x.append(smooth_image)\n",
        "        y.append(classes[cls])\n",
        "        z.append(img)\n",
        "\n"
      ],
      "metadata": {
        "id": "Oun_ElGKeMQl"
      },
      "execution_count": 7,
      "outputs": []
    },
    {
      "cell_type": "code",
      "source": [
        "plt.imshow(x[10]) "
      ],
      "metadata": {
        "colab": {
          "base_uri": "https://localhost:8080/",
          "height": 452
        },
        "id": "0MTqe_rMfjLd",
        "outputId": "4b38fe55-7189-4164-f9f5-189de944c76c"
      },
      "execution_count": 9,
      "outputs": [
        {
          "output_type": "execute_result",
          "data": {
            "text/plain": [
              "<matplotlib.image.AxesImage at 0x7f47945dcfa0>"
            ]
          },
          "metadata": {},
          "execution_count": 9
        },
        {
          "output_type": "display_data",
          "data": {
            "text/plain": [
              "<Figure size 640x480 with 1 Axes>"
            ],
            "image/png": "[encoded data removed]"
          },
          "metadata": {}
        }
      ]
    },
    {
      "cell_type": "code",
      "source": [
        "x[1].shape"
      ],
      "metadata": {
        "colab": {
          "base_uri": "https://localhost:8080/"
        },
        "id": "4EZ74cbgyJ26",
        "outputId": "48e9ba30-fe53-4a9d-e0aa-388bf4848654"
      },
      "execution_count": 40,
      "outputs": [
        {
          "output_type": "execute_result",
          "data": {
            "text/plain": [
              "(2000, 200, 3)"
            ]
          },
          "metadata": {},
          "execution_count": 40
        }
      ]
    },
    {
      "cell_type": "code",
      "source": [
        "z[1].shape"
      ],
      "metadata": {
        "colab": {
          "base_uri": "https://localhost:8080/"
        },
        "id": "oy9VVuhW4U8P",
        "outputId": "f97c6934-7220-4908-a413-6a24ecb00f11"
      },
      "execution_count": 12,
      "outputs": [
        {
          "output_type": "execute_result",
          "data": {
            "text/plain": [
              "(3215, 189)"
            ]
          },
          "metadata": {},
          "execution_count": 12
        }
      ]
    },
    {
      "cell_type": "code",
      "source": [
        "plt.imshow(z[10])  "
      ],
      "metadata": {
        "colab": {
          "base_uri": "https://localhost:8080/",
          "height": 452
        },
        "id": "8tO96Zz8fmjW",
        "outputId": "9bf5b657-41fb-4552-c715-3deb4d74ab7b"
      },
      "execution_count": 11,
      "outputs": [
        {
          "output_type": "execute_result",
          "data": {
            "text/plain": [
              "<matplotlib.image.AxesImage at 0x7f47944ac100>"
            ]
          },
          "metadata": {},
          "execution_count": 11
        },
        {
          "output_type": "display_data",
          "data": {
            "text/plain": [
              "<Figure size 640x480 with 1 Axes>"
            ],
            "image/png": "[encoded data removed]"
          },
          "metadata": {}
        }
      ]
    },
    {
      "cell_type": "code",
      "source": [],
      "metadata": {
        "id": "IMq1c6cpyp4p"
      },
      "execution_count": null,
      "outputs": []
    }
  ]
}