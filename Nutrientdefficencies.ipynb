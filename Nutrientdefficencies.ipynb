{
  "nbformat": 4,
  "nbformat_minor": 0,
  "metadata": {
    "colab": {
      "provenance": [],
      "authorship_tag": "ABX9TyMbSL8GrtRZIpsY4hnLUgII",
      "include_colab_link": true
    },
    "kernelspec": {
      "name": "python3",
      "display_name": "Python 3"
    },
    "language_info": {
      "name": "python"
    }
  },
  "cells": [
    {
      "cell_type": "markdown",
      "metadata": {
        "id": "view-in-github",
        "colab_type": "text"
      },
      "source": [
        "<a href=\"https://colab.research.google.com/github/Geeth-Rath/Rice_Plant_Diseases_Detection/blob/rice_plant_nutrients_defficiency/Nutrientdefficencies.ipynb\" target=\"_parent\"><img src=\"https://colab.research.google.com/assets/colab-badge.svg\" alt=\"Open In Colab\"/></a>"
      ]
    },
    {
      "cell_type": "code",
      "execution_count": 9,
      "metadata": {
        "id": "R-99LXLjT7r9",
        "colab": {
          "base_uri": "https://localhost:8080/"
        },
        "outputId": "406acfc4-ff7a-4981-85ee-40389bb8aa20"
      },
      "outputs": [
        {
          "output_type": "stream",
          "name": "stdout",
          "text": [
            "Drive already mounted at /content/drive; to attempt to forcibly remount, call drive.mount(\"/content/drive\", force_remount=True).\n"
          ]
        }
      ],
      "source": [
        "from google.colab import drive\n",
        "drive.mount('/content/drive')"
      ]
    },
    {
      "cell_type": "code",
      "source": [
        "!git clone https://github.com/Geeth-Rath/Rice_Plant_Diseases_Detection.git"
      ],
      "metadata": {
        "colab": {
          "base_uri": "https://localhost:8080/"
        },
        "id": "TGNL3Jn8Ab7t",
        "outputId": "486d901b-0b70-4bc6-e2d1-3409c335f39c"
      },
      "execution_count": 15,
      "outputs": [
        {
          "output_type": "stream",
          "name": "stdout",
          "text": [
            "Cloning into 'Rice_Plant_Diseases_Detection'...\n",
            "remote: Enumerating objects: 3, done.\u001b[K\n",
            "remote: Counting objects: 100% (3/3), done.\u001b[K\n",
            "remote: Total 3 (delta 0), reused 0 (delta 0), pack-reused 0\u001b[K\n",
            "Unpacking objects: 100% (3/3), 624 bytes | 624.00 KiB/s, done.\n"
          ]
        }
      ]
    },
    {
      "cell_type": "code",
      "source": [
        "!git branch -a rice_plant_nutrients_defficiency"
      ],
      "metadata": {
        "colab": {
          "base_uri": "https://localhost:8080/"
        },
        "id": "2I752bFjBqgo",
        "outputId": "cecae339-c7d2-4059-b80f-14452cd03d4b"
      },
      "execution_count": 21,
      "outputs": [
        {
          "output_type": "stream",
          "name": "stdout",
          "text": [
            "fatal: not a git repository (or any of the parent directories): .git\n"
          ]
        }
      ]
    },
    {
      "cell_type": "code",
      "source": [
        "import cv2\n",
        "import numpy as np\n",
        "import os"
      ],
      "metadata": {
        "id": "2mAkrNxnYP3Y"
      },
      "execution_count": 10,
      "outputs": []
    },
    {
      "cell_type": "code",
      "source": [
        "#Import the libraries\n",
        "import zipfile\n",
        "import os\n",
        "\n",
        "zip_ref = zipfile.ZipFile('/content/drive/MyDrive/Colab Notebooks/ReasearchDataSet/archive.zip', 'r') #Opens the zip file in read mode\n",
        "zip_ref.extractall('/tmp') #Extracts the files into the /tmp folder\n",
        "zip_ref.close()"
      ],
      "metadata": {
        "id": "Isg6qSMqsN58"
      },
      "execution_count": null,
      "outputs": []
    },
    {
      "cell_type": "code",
      "source": [
        "\n",
        "# Define a function to load images from a directory\n",
        "def load_images(directory):\n",
        "    print(\"qqq\")\n",
        "    image_list = []\n",
        "    for filename in os.listdir(directory):\n",
        "        image_path = os.path.join(directory, filename)\n",
        "        image = cv2.imread(image_path)  # Load the image using OpenCV\n",
        "        image_list.append(image)\n",
        "    return np.array(image_list)\n",
        "\n",
        "# Load the image dataset\n",
        "dataset_directory = '/content/drive/MyDrive/Colab Notebooks/ReasearchDataSet/rice_plant_nutrients_deficiencies/Nitrogen(N)'  # Replace with the path to your dataset directory\n",
        "\n",
        "images = load_images(dataset_directory)\n",
        "\n",
        "# Explore the dataset\n",
        "print(images)  # Print the shape of the image dataset (num_images, height, width, channels)"
      ],
      "metadata": {
        "id": "J2c2EFLjWK3C"
      },
      "execution_count": null,
      "outputs": []
    },
    {
      "cell_type": "code",
      "source": [
        "import os\n",
        "import numpy as np\n",
        "from PIL import Image\n",
        "\n",
        "# set the directories of your dataset\n",
        "n_dir = '/content/drive/MyDrive/Colab Notebooks/FYP/Dataset/Nutrient Deficiencies/dataset/rice_plant_lacks_nutrients/Nitrogen(N)'\n",
        "k_dir = '/content/drive/MyDrive/Colab Notebooks/FYP/Dataset/Nutrient Deficiencies/dataset/rice_plant_lacks_nutrients/Phosphorus(P)'\n",
        "p_dir = '/content/drive/MyDrive/Colab Notebooks/FYP/Dataset/Nutrient Deficiencies/dataset/rice_plant_lacks_nutrients/Potassium(K)'\n",
        "\n",
        "# set the target image size for resizing\n",
        "target_size = (256, 256)\n",
        "\n",
        "# load the N images\n",
        "n_images = []\n",
        "for file_name in os.listdir(n_dir):\n",
        "    image_path = os.path.join(n_dir, file_name)\n",
        "    image = Image.open(image_path)\n",
        "    image = image.resize(target_size)\n",
        "    image_array = np.array(image) / 255.0\n",
        "    n_images.append(image_array)\n",
        "n_images = np.stack(n_images)\n",
        "\n",
        "# load the K images\n",
        "k_images = []\n",
        "for file_name in os.listdir(k_dir):\n",
        "    image_path = os.path.join(k_dir, file_name)\n",
        "    image = Image.open(image_path)\n",
        "    image = image.resize(target_size)\n",
        "    image_array = np.array(image) / 255.0\n",
        "    k_images.append(image_array)\n",
        "k_images = np.stack(k_images)\n",
        "\n",
        "# load the P images\n",
        "p_images = []\n",
        "for file_name in os.listdir(p_dir):\n",
        "    image_path = os.path.join(p_dir, file_name)\n",
        "    image = Image.open(image_path)\n",
        "    image = image.resize(target_size)\n",
        "    image_array = np.array(image) / 255.0\n",
        "    p_images.append(image_array)\n",
        "p_images = np.stack(p_images)\n",
        "\n",
        "# # concatenate the images into a single array\n",
        "# all_images = np.concatenate((n_images, k_images, p_images), axis=0)\n",
        "\n",
        "# # create the labels\n",
        "# n_labels = np.zeros((n_images.shape[0],), dtype=int)\n",
        "# k_labels = np.ones((k_images.shape[0],), dtype=int)\n",
        "# p_labels = np.full((p_images.shape[0],), 2, dtype=int)\n",
        "# all_labels = np.concatenate((n_labels, k_labels, p_labels), axis=0)\n"
      ],
      "metadata": {
        "id": "-6A_ccgLzhlI"
      },
      "execution_count": 11,
      "outputs": []
    },
    {
      "cell_type": "code",
      "source": [
        "n_images"
      ],
      "metadata": {
        "id": "Wm_KKtpWYJVI"
      },
      "execution_count": null,
      "outputs": []
    },
    {
      "cell_type": "code",
      "source": [
        "k_images"
      ],
      "metadata": {
        "id": "Bt_cusge8hns"
      },
      "execution_count": null,
      "outputs": []
    },
    {
      "cell_type": "code",
      "source": [
        "p_images"
      ],
      "metadata": {
        "id": "MQfXPrGC8nQ-"
      },
      "execution_count": null,
      "outputs": []
    }
  ]
}